{
 "cells": [
  {
   "cell_type": "code",
   "execution_count": null,
   "metadata": {
    "collapsed": false
   },
   "outputs": [],
   "source": [
    "import glob\n",
    "import os\n",
    "from readfiles import *\n",
    "import matplotlib.pyplot as plt\n",
    "import pandas as pd\n",
    "import numpy as np\n",
    "from lomapost import * #All functions defined within module lomapost\n",
    "import h5py\n",
    "%matplotlib inline"
   ]
  },
  {
   "cell_type": "code",
   "execution_count": 25,
   "metadata": {
    "collapsed": true
   },
   "outputs": [],
   "source": [
    "set_fig_props()"
   ]
  },
  {
   "cell_type": "code",
   "execution_count": 26,
   "metadata": {
    "collapsed": false
   },
   "outputs": [],
   "source": [
    "from IPython.display import clear_output\n",
    "from IPython.display import Image"
   ]
  },
  {
   "cell_type": "markdown",
   "metadata": {},
   "source": [
    "# Job selection"
   ]
  },
  {
   "cell_type": "markdown",
   "metadata": {},
   "source": [
    "#### Modify p_folders vector for job selection:"
   ]
  },
  {
   "cell_type": "code",
   "execution_count": null,
   "metadata": {
    "collapsed": false,
    "scrolled": true
   },
   "outputs": [],
   "source": [
    "p_s80Big1 = '/share/drive/toni/Re160s80/caseBig1/'\n",
    "opt_s80Big1 = 1 #lomacte code opt value\n",
    "\n",
    "p_s80a = '/share/drive/toni/Re160s80/case1/'\n",
    "opt_lomacte = 1\n",
    "\n",
    "p_s80ay2 = '/share/drive/toni/Re160s80/case1/y2/'\n",
    "p_s80ay2sig07 = '/share/drive/toni/Re160s80/case1/y2/sig07/'\n",
    "p_s80by2sig07 = '/share/drive/toni/Re160s80/case2/y2/sig07/'\n",
    "opt_lomacte = 1\n",
    "p_s40ay2 = '/share/drive/toni/Re160s40/case1/y2/'\n",
    "opt_lomacte = 1\n",
    "p_s40by2 = '/share/drive/toni/Re160s40/case2/y2/'\n",
    "p_s40cy2 = '/share/drive/toni/Re160s40/case3/y2/'\n",
    "\n",
    "\n",
    "p_s10a = '/share/drive/toni/Re160s10/case1/'\n",
    "p_s10aSS = '/share/drive/toni/Re160s10/case1/SS/'\n",
    "p_s10b = '/share/drive/toni/Re160s10/case2/'\n",
    "p_s10bSS = '/share/drive/toni/Re160s10/case2/SS/'\n",
    "p_s10c = '/share/drive/toni/Re160s10/case3/'\n",
    "p_s10cSS = '/share/drive/toni/Re160s10/case3/SS/'\n",
    "\n",
    "p_s20a = '/share/drive/toni/Re160s20/case1/'\n",
    "p_s20aSS = '/share/drive/toni/Re160s20/case1/SS/'\n",
    "p_s20b = '/share/drive/toni/Re160s20/case2/'\n",
    "p_s20bSS = '/share/drive/toni/Re160s20/case2/SS/'\n",
    "p_s20c = '/share/drive/toni/Re160s20/case3/'\n",
    "p_s20cSS = '/share/drive/toni/Re160s20/case3/SS/'\n",
    "\n",
    "\n",
    "p_s40a = '/share/drive/toni/Re160s40/case1/'\n",
    "p_s40b = '/share/drive/toni/Re160s40/case2/'\n",
    "p_s40c = '/share/drive/toni/Re160s40/case3/'\n",
    "\n",
    "p_s80a = '/share/drive/toni/Re160s80/case1/'\n",
    "p_s80b = '/share/drive/toni/Re160s80/case2/'\n",
    "p_s80c = '/share/drive/toni/Re160s80/case3/'\n",
    "\n",
    "p_s80by2 = '/share/drive/toni/Re160s80/case2/y2/'\n",
    "opt_lomacte = 1\n",
    "p_s80cy2 = '/share/drive/toni/Re160s80/case3/y2/'\n",
    "opt_lomacte = 1\n",
    "\n",
    "p_s80ay2='/share/drive/toni/Re160s80/case1/y2/'\n",
    "p_s80by2='/share/drive/toni/Re160s80/case2/y2/'\n",
    "p_s80cy2='/share/drive/toni/Re160s80/case3/y2/'\n",
    "opt_loma3 = 3\n",
    "#p_folders   = [p_s40ay2sig07,p_s40by2sig07,p_s40cy2sig07]\n",
    "p_folders   = [p_s80ay2,p_s80by2,p_s80cy2]\n",
    "p_folders =[p_s10cSS]\n",
    "#p_folders  = ['/share/drive/toni/VDML/s10/01/','/share/drive/toni/VDML/s10/02/',\n",
    "#              '/share/drive/toni/VDML/s10/03/','/share/drive/toni/VDML/s10/04/newman/','/share/drive/toni/VDML/s10/06/']\n",
    "p_folders=['/share/drive/toni/VDML/s80/03/']\n",
    "#define option and styles for sta reaing\n",
    "#l_sta_opt = [opt_loma3]\n",
    "#p_folders   = [p_results+ 'tests80', p_results+'Re160s20my1101',p_results+'Re160s40my1101'] #Define path of folders\n",
    "#Option 2:  p_folders   = glob.glob(p_results+'Re160*my1101') #use pattern to define them\n",
    "print p_folders                                    #print path folders\n",
    "njobs = len(p_folders)                             #save number of jobs in njobs\n",
    "l_sta_files = list(range(njobs))                   #initialize l_sta_files\n",
    "l_spe_files = list(range(njobs))  \n",
    "#Save all sta files list on l_sta_files for every job\n",
    "for ijob in range(njobs):\n",
    "    #l_sta_files[ijob] = sorted(glob.glob(p_folders[ijob]+'/*.sta'))\n",
    "    l_spe_files[ijob] = sorted(glob.glob(p_folders[ijob]+'/*.spe'))\n",
    "    #Checking:\n",
    "    print \"job(%s): 1st file = %s, last file = %s\" %(ijob+1,l_spe_files[ijob][0],l_spe_files[ijob][-1])   "
   ]
  },
  {
   "cell_type": "code",
   "execution_count": null,
   "metadata": {
    "collapsed": false
   },
   "outputs": [],
   "source": [
    "#Total number of files for every job\n",
    "nfiles=list(range(njobs))\n",
    "#nfiles2=list(range(njobs))\n",
    "for ijob in range(njobs):\n",
    "    nfiles[ijob] = len(l_spe_files[ijob])\n",
    "    #nfiles2[ijob] = len(l_spe_files[ijob])\n",
    "print nfiles\n"
   ]
  },
  {
   "cell_type": "markdown",
   "metadata": {},
   "source": [
    "# Read all data"
   ]
  },
  {
   "cell_type": "code",
   "execution_count": null,
   "metadata": {
    "collapsed": false
   },
   "outputs": [],
   "source": [
    "spes = []\n",
    "for i in range(njobs):\n",
    "    for j in range(len(l_spe_files[ijob])):\n",
    "        spes.append([])"
   ]
  },
  {
   "cell_type": "markdown",
   "metadata": {},
   "source": [
    "# CREATE HDF5 WITH ALL STATS"
   ]
  },
  {
   "cell_type": "code",
   "execution_count": null,
   "metadata": {
    "collapsed": false,
    "scrolled": true
   },
   "outputs": [],
   "source": [
    "#for every job in l_folders:\n",
    "nplane=-1 #mid plane\n",
    "#nplane=-2\n",
    "for ijob in range(njobs):\n",
    "    print ijob\n",
    "    #for every stafiles in l_sta_files list:\n",
    "    for fspe,ispe in zip(l_spe_files[ijob],range(len(l_spe_files[ijob]))):\n",
    "        #temp = workspe(fspe) #save the stats on the right place\n",
    "        temp = workspe(fspe,nplane) #save the stats on the right place\n",
    "        spes[ijob].append(temp)"
   ]
  },
  {
   "cell_type": "code",
   "execution_count": null,
   "metadata": {
    "collapsed": true
   },
   "outputs": [],
   "source": [
    "#Special variables is'y'\n",
    "#l_var_unique = ['alp','bet','Re','nacum','nx','ny','nz','np']\n",
    "l_var_unique = ['yjsp','kx','kz','jsp']\n",
    "#'time':time,,'SPEC':SPECplane"
   ]
  },
  {
   "cell_type": "code",
   "execution_count": null,
   "metadata": {
    "collapsed": false
   },
   "outputs": [],
   "source": [
    "l_var_profiles=[]\n",
    "l_var_point=[]\n",
    "y = spes[0][0]['y']\n",
    "yjsp=y[spes[0][0]['jsp'][nplane]]\n",
    "jsp = spes[0][0]['jsp'][nplane]\n",
    "print \"plane number %s\" %(jsp)\n",
    "print \"y=%s\"%(yjsp)\n",
    "\n",
    "#nspec = len(yjsp)\n",
    "my = len(y)\n",
    "time = spes[0][0]\n",
    "for key in spes[0][0].keys():\n",
    "    if key=='SPEC':\n",
    "        l_var_profiles.append(key)\n",
    "    elif key=='time':\n",
    "        l_var_point.append(key)\n",
    "        #print key,shape(stats[0][0][key]),size(stats[0][0][key])\n",
    "print l_var_profiles\n",
    "print l_var_point\n",
    "if nplane == -1:\n",
    "    fnplane = 'mid'\n",
    "else:\n",
    "    nplane=jsp\n",
    "    fnplane = \"%03d\"%nplane"
   ]
  },
  {
   "cell_type": "code",
   "execution_count": null,
   "metadata": {
    "collapsed": false
   },
   "outputs": [],
   "source": []
  },
  {
   "cell_type": "code",
   "execution_count": null,
   "metadata": {
    "collapsed": true
   },
   "outputs": [],
   "source": [
    "CHECK = False #Flag for activating plots"
   ]
  },
  {
   "cell_type": "code",
   "execution_count": null,
   "metadata": {
    "collapsed": false,
    "scrolled": true
   },
   "outputs": [],
   "source": [
    "#THIS COULD BE ONE BIG FILE WITH ALL SPECTRA??\n",
    "# Name plane\n",
    "print fnplane\n",
    "for ijob in range(njobs):\n",
    "    [nz,nvar,nx] = np.shape(spes[ijob][0]['SPEC'])\n",
    "    if ijob==0:\n",
    "        print nz,nvar,nx\n",
    "    nspe = len(l_spe_files[ijob])\n",
    "    v_temp=np.zeros(nspe)\n",
    "    matriz = np.zeros([nz,nvar,nx,nspe])\n",
    "    path = p_folders[ijob]+'h5.'+fnplane+'.spes'\n",
    "    with h5py.File(path,\"w\",libver='latest') as f:\n",
    "        f['y']=y\n",
    "        print \"my=%s\" %(len(y))\n",
    "        for variable in l_var_unique:\n",
    "            f[variable]=spes[ijob][0][variable]\n",
    "            print \"Writing %s = %s, for ijob = %s\" %(variable,spes[ijob][0][variable],ijob)\n",
    "        for variable in l_var_point:\n",
    "            print \"Writing %s\" % variable\n",
    "            for ispe in range(nspe):\n",
    "                v_temp[ispe] = spes[ijob][ispe][variable]\n",
    "            #nsta = len(l_sta_files[ijob])\n",
    "            f[variable]=v_temp\n",
    "        for variable in l_var_profiles:\n",
    "            for ispe in range(nspe):\n",
    "                matriz[:,:,:,ispe]=spes[ijob][ispe][variable]\n",
    "            f[variable]=matriz"
   ]
  },
  {
   "cell_type": "markdown",
   "metadata": {
    "collapsed": true
   },
   "source": [
    "# Create all planes SPECTRA "
   ]
  },
  {
   "cell_type": "code",
   "execution_count": null,
   "metadata": {
    "collapsed": true
   },
   "outputs": [],
   "source": [
    "#Need to read how many planes we have!"
   ]
  },
  {
   "cell_type": "code",
   "execution_count": null,
   "metadata": {
    "collapsed": false
   },
   "outputs": [],
   "source": [
    "l_var_unique = ['yjsp','kx','kz','jsp']\n",
    "vplanes=[]\n",
    "nmaxplanes=[]\n",
    "#For each job\n",
    "for ijob in range(njobs):\n",
    "    l_var_profiles=[]\n",
    "    l_var_point=[]\n",
    "    spes = []\n",
    "    for j in range(len(l_spe_files[ijob])):\n",
    "        spes.append([])\n",
    "    firstfile=l_spe_files[ijob][0]\n",
    "    kk = workspe(firstfile,-1)\n",
    "    y = kk['y']\n",
    "    my = len(y)\n",
    "    time = kk['time']\n",
    "    vplanes.append(kk['jsp'])\n",
    "    nmaxplanes.append(len(vplanes[ijob]))\n",
    "    for key in kk.keys():\n",
    "        if key=='SPEC':\n",
    "            l_var_profiles.append(key)\n",
    "        elif key=='time':\n",
    "            l_var_point.append(key)\n",
    "        #print key,shape(stats[0][0][key]),size(stats[0][0][key])\n",
    "print l_var_profiles\n",
    "print l_var_point\n",
    "print nmaxplanes\n",
    "print vplanes\n",
    "#nspec = len(yjsp)\n",
    "\n",
    "\n",
    "#if nplane == -1:\n",
    "#    fnplane = 'mid'\n",
    "#else:\n",
    "#    nplane=jsp\n",
    "#    fnplane = \"%03d\"%nplane"
   ]
  },
  {
   "cell_type": "code",
   "execution_count": null,
   "metadata": {
    "collapsed": false,
    "scrolled": true
   },
   "outputs": [],
   "source": [
    "for ijob in range(njobs):\n",
    "    print p_folders[ijob]\n",
    "    for nplane in range(nmaxplanes[ijob]):\n",
    "        print \"Reading for plane:%s\" %(vplanes[ijob][nplane])\n",
    "        spes=[]\n",
    "        for fspe,ispe in zip(l_spe_files[ijob],range(len(l_spe_files[ijob]))):\n",
    "        #temp = workspe(fspe) #save the stats on the right place\n",
    "            temp = workspe(fspe,nplane) #save the stats on the right place\n",
    "            spes.append(temp)\n",
    "        #Read shape of SPECTRA\n",
    "        [nz,nvar,nx] = np.shape(spes[0]['SPEC'])\n",
    "        if ijob==0:\n",
    "            print nz,nvar,nx\n",
    "        nspe = len(l_spe_files[ijob])\n",
    "        v_temp=np.zeros(nspe)\n",
    "        matriz = np.zeros([nz,nvar,nx,nspe])\n",
    "        if nplane == nmaxplanes[ijob]-1: #Last plane\n",
    "            fnplane = 'mid'\n",
    "        else:\n",
    "            nplane=vplanes[ijob][nplane]\n",
    "            fnplane = \"%03d\"%nplane\n",
    "        print \"plane name=%s\"%fnplane\n",
    "        path = p_folders[ijob]+'h5.'+fnplane+'.spes'\n",
    "             \n",
    "        with h5py.File(path,\"w\",libver='latest') as f:\n",
    "            f['y']=y\n",
    "            print \"my=%s\" %(len(y))\n",
    "            for variable in l_var_unique:\n",
    "                f[variable]=spes[0][variable]\n",
    "                print \"Writing %s = %s, for ijob = %s\" %(variable,spes[0][variable],ijob)\n",
    "            for variable in l_var_point:\n",
    "                print \"Writing %s\" % variable\n",
    "                for ispe in range(nspe):\n",
    "                    v_temp[ispe] = spes[ispe][variable]\n",
    "            #nsta = len(l_sta_files[ijob])\n",
    "                f[variable]=v_temp\n",
    "            for variable in l_var_profiles:\n",
    "                for ispe in range(nspe):\n",
    "                    matriz[:,:,:,ispe]=spes[ispe][variable]\n",
    "                f[variable]=matriz\n",
    "    "
   ]
  },
  {
   "cell_type": "code",
   "execution_count": null,
   "metadata": {
    "collapsed": true
   },
   "outputs": [],
   "source": [
    "spes = []\n",
    "f=[]\n",
    "matrix = []"
   ]
  },
  {
   "cell_type": "code",
   "execution_count": null,
   "metadata": {
    "collapsed": true
   },
   "outputs": [],
   "source": [
    "\n"
   ]
  },
  {
   "cell_type": "code",
   "execution_count": null,
   "metadata": {
    "collapsed": true
   },
   "outputs": [],
   "source": []
  },
  {
   "cell_type": "code",
   "execution_count": null,
   "metadata": {
    "collapsed": true
   },
   "outputs": [],
   "source": []
  },
  {
   "cell_type": "code",
   "execution_count": null,
   "metadata": {
    "collapsed": true
   },
   "outputs": [],
   "source": []
  },
  {
   "cell_type": "code",
   "execution_count": null,
   "metadata": {
    "collapsed": true
   },
   "outputs": [],
   "source": []
  },
  {
   "cell_type": "code",
   "execution_count": null,
   "metadata": {
    "collapsed": true
   },
   "outputs": [],
   "source": []
  },
  {
   "cell_type": "code",
   "execution_count": null,
   "metadata": {
    "collapsed": true
   },
   "outputs": [],
   "source": []
  },
  {
   "cell_type": "code",
   "execution_count": null,
   "metadata": {
    "collapsed": true
   },
   "outputs": [],
   "source": []
  }
 ],
 "metadata": {
  "kernelspec": {
   "display_name": "Python 2",
   "language": "python",
   "name": "python2"
  },
  "language_info": {
   "codemirror_mode": {
    "name": "ipython",
    "version": 2
   },
   "file_extension": ".py",
   "mimetype": "text/x-python",
   "name": "python",
   "nbconvert_exporter": "python",
   "pygments_lexer": "ipython2",
   "version": "2.7.6"
  }
 },
 "nbformat": 4,
 "nbformat_minor": 0
}
