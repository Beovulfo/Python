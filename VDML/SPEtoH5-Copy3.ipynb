{
 "cells": [
  {
   "cell_type": "code",
   "execution_count": 1,
   "metadata": {
    "collapsed": false
   },
   "outputs": [],
   "source": [
    "import glob\n",
    "import os\n",
    "from readfiles import *\n",
    "import matplotlib.pyplot as plt\n",
    "import pandas as pd\n",
    "import numpy as np\n",
    "from lomapost import * #All functions defined within module lomapost\n",
    "import h5py\n",
    "%matplotlib inline"
   ]
  },
  {
   "cell_type": "code",
   "execution_count": 2,
   "metadata": {
    "collapsed": true
   },
   "outputs": [],
   "source": [
    "set_fig_props()"
   ]
  },
  {
   "cell_type": "code",
   "execution_count": 3,
   "metadata": {
    "collapsed": false
   },
   "outputs": [],
   "source": [
    "from IPython.display import clear_output\n",
    "from IPython.display import Image"
   ]
  },
  {
   "cell_type": "markdown",
   "metadata": {},
   "source": [
    "# Job selection"
   ]
  },
  {
   "cell_type": "markdown",
   "metadata": {},
   "source": [
    "#### Modify p_folders vector for job selection:"
   ]
  },
  {
   "cell_type": "code",
   "execution_count": 4,
   "metadata": {
    "collapsed": false,
    "scrolled": true
   },
   "outputs": [
    {
     "name": "stdout",
     "output_type": "stream",
     "text": [
      "['/share/drive/toni/VDML/s80/04/']\n",
      "job(1): 1st file = /share/drive/toni/VDML/s80/04/s80d_01_001.spe, last file = /share/drive/toni/VDML/s80/04/s80d_01_099.spe\n"
     ]
    }
   ],
   "source": [
    "p_s80Big1 = '/share/drive/toni/Re160s80/caseBig1/'\n",
    "opt_s80Big1 = 1 #lomacte code opt value\n",
    "\n",
    "p_s80a = '/share/drive/toni/Re160s80/case1/'\n",
    "opt_lomacte = 1\n",
    "\n",
    "p_s80ay2 = '/share/drive/toni/Re160s80/case1/y2/'\n",
    "p_s80ay2sig07 = '/share/drive/toni/Re160s80/case1/y2/sig07/'\n",
    "p_s80by2sig07 = '/share/drive/toni/Re160s80/case2/y2/sig07/'\n",
    "opt_lomacte = 1\n",
    "p_s40ay2 = '/share/drive/toni/Re160s40/case1/y2/'\n",
    "opt_lomacte = 1\n",
    "p_s40by2 = '/share/drive/toni/Re160s40/case2/y2/'\n",
    "p_s40cy2 = '/share/drive/toni/Re160s40/case3/y2/'\n",
    "\n",
    "\n",
    "p_s10a = '/share/drive/toni/Re160s10/case1/'\n",
    "p_s10aSS = '/share/drive/toni/Re160s10/case1/SS/'\n",
    "p_s10b = '/share/drive/toni/Re160s10/case2/'\n",
    "p_s10bSS = '/share/drive/toni/Re160s10/case2/SS/'\n",
    "p_s10c = '/share/drive/toni/Re160s10/case3/'\n",
    "p_s10cSS = '/share/drive/toni/Re160s10/case3/SS/'\n",
    "\n",
    "p_s20a = '/share/drive/toni/Re160s20/case1/'\n",
    "p_s20aSS = '/share/drive/toni/Re160s20/case1/SS/'\n",
    "p_s20b = '/share/drive/toni/Re160s20/case2/'\n",
    "p_s20bSS = '/share/drive/toni/Re160s20/case2/SS/'\n",
    "p_s20c = '/share/drive/toni/Re160s20/case3/'\n",
    "p_s20cSS = '/share/drive/toni/Re160s20/case3/SS/'\n",
    "\n",
    "\n",
    "p_s40a = '/share/drive/toni/Re160s40/case1/'\n",
    "p_s40b = '/share/drive/toni/Re160s40/case2/'\n",
    "p_s40c = '/share/drive/toni/Re160s40/case3/'\n",
    "\n",
    "p_s80a = '/share/drive/toni/Re160s80/case1/'\n",
    "p_s80b = '/share/drive/toni/Re160s80/case2/'\n",
    "p_s80c = '/share/drive/toni/Re160s80/case3/'\n",
    "\n",
    "p_s80by2 = '/share/drive/toni/Re160s80/case2/y2/'\n",
    "opt_lomacte = 1\n",
    "p_s80cy2 = '/share/drive/toni/Re160s80/case3/y2/'\n",
    "opt_lomacte = 1\n",
    "\n",
    "p_s80ay2='/share/drive/toni/Re160s80/case1/y2/'\n",
    "p_s80by2='/share/drive/toni/Re160s80/case2/y2/'\n",
    "p_s80cy2='/share/drive/toni/Re160s80/case3/y2/'\n",
    "opt_loma3 = 3\n",
    "#p_folders   = [p_s40ay2sig07,p_s40by2sig07,p_s40cy2sig07]\n",
    "p_folders   = [p_s80ay2,p_s80by2,p_s80cy2]\n",
    "p_folders =[p_s10cSS]\n",
    "#p_folders  = ['/share/drive/toni/VDML/s10/01/','/share/drive/toni/VDML/s10/02/',\n",
    "#              '/share/drive/toni/VDML/s10/03/','/share/drive/toni/VDML/s10/04/newman/','/share/drive/toni/VDML/s10/06/']\n",
    "p_folders=['/share/drive/toni/VDML/s80/04/']\n",
    "#define option and styles for sta reaing\n",
    "#l_sta_opt = [opt_loma3]\n",
    "#p_folders   = [p_results+ 'tests80', p_results+'Re160s20my1101',p_results+'Re160s40my1101'] #Define path of folders\n",
    "#Option 2:  p_folders   = glob.glob(p_results+'Re160*my1101') #use pattern to define them\n",
    "print p_folders                                    #print path folders\n",
    "njobs = len(p_folders)                             #save number of jobs in njobs\n",
    "l_sta_files = list(range(njobs))                   #initialize l_sta_files\n",
    "l_spe_files = list(range(njobs))  \n",
    "#Save all sta files list on l_sta_files for every job\n",
    "for ijob in range(njobs):\n",
    "    #l_sta_files[ijob] = sorted(glob.glob(p_folders[ijob]+'/*.sta'))\n",
    "    l_spe_files[ijob] = sorted(glob.glob(p_folders[ijob]+'/*.spe'))\n",
    "    #Checking:\n",
    "    print \"job(%s): 1st file = %s, last file = %s\" %(ijob+1,l_spe_files[ijob][0],l_spe_files[ijob][-1])   "
   ]
  },
  {
   "cell_type": "code",
   "execution_count": 28,
   "metadata": {
    "collapsed": false
   },
   "outputs": [
    {
     "name": "stdout",
     "output_type": "stream",
     "text": [
      "[79]\n"
     ]
    }
   ],
   "source": [
    "#Total number of files for every job\n",
    "nfiles=list(range(njobs))\n",
    "#nfiles2=list(range(njobs))\n",
    "for ijob in range(njobs):\n",
    "    nfiles[ijob] = len(l_spe_files[ijob])\n",
    "    #nfiles2[ijob] = len(l_spe_files[ijob])\n",
    "print nfiles\n"
   ]
  },
  {
   "cell_type": "markdown",
   "metadata": {},
   "source": [
    "# Read all data"
   ]
  },
  {
   "cell_type": "code",
   "execution_count": 29,
   "metadata": {
    "collapsed": false
   },
   "outputs": [],
   "source": [
    "spes = []\n",
    "for i in range(njobs):\n",
    "    for j in range(len(l_spe_files[ijob])):\n",
    "        spes.append([])"
   ]
  },
  {
   "cell_type": "markdown",
   "metadata": {},
   "source": [
    "# CREATE HDF5 WITH ALL STATS"
   ]
  },
  {
   "cell_type": "code",
   "execution_count": 30,
   "metadata": {
    "collapsed": false,
    "scrolled": true
   },
   "outputs": [
    {
     "name": "stdout",
     "output_type": "stream",
     "text": [
      "0\n",
      "ntotr=71424,nx=512,nz=192,nspec=31,nvar=12\n",
      "ntotr=71424,nx=512,nz=192,nspec=31,nvar=12\n",
      "ntotr=71424,nx=512,nz=192,nspec=31,nvar=12\n",
      "ntotr=71424,nx=512,nz=192,nspec=31,nvar=12\n",
      "ntotr=71424,nx=512,nz=192,nspec=31,nvar=12\n",
      "ntotr=71424,nx=512,nz=192,nspec=31,nvar=12\n",
      "ntotr=71424,nx=512,nz=192,nspec=31,nvar=12\n",
      "ntotr=71424,nx=512,nz=192,nspec=31,nvar=12\n",
      "ntotr=71424,nx=512,nz=192,nspec=31,nvar=12\n",
      "ntotr=71424,nx=512,nz=192,nspec=31,nvar=12\n",
      "ntotr=71424,nx=512,nz=192,nspec=31,nvar=12\n",
      "ntotr=71424,nx=512,nz=192,nspec=31,nvar=12\n",
      "ntotr=71424,nx=512,nz=192,nspec=31,nvar=12\n",
      "ntotr=71424,nx=512,nz=192,nspec=31,nvar=12\n",
      "ntotr=71424,nx=512,nz=192,nspec=31,nvar=12\n",
      "ntotr=71424,nx=512,nz=192,nspec=31,nvar=12\n",
      "ntotr=71424,nx=512,nz=192,nspec=31,nvar=12\n",
      "ntotr=71424,nx=512,nz=192,nspec=31,nvar=12\n",
      "ntotr=71424,nx=512,nz=192,nspec=31,nvar=12\n",
      "ntotr=71424,nx=512,nz=192,nspec=31,nvar=12\n",
      "ntotr=71424,nx=512,nz=192,nspec=31,nvar=12\n",
      "ntotr=71424,nx=512,nz=192,nspec=31,nvar=12\n",
      "ntotr=71424,nx=512,nz=192,nspec=31,nvar=12\n",
      "ntotr=71424,nx=512,nz=192,nspec=31,nvar=12\n",
      "ntotr=71424,nx=512,nz=192,nspec=31,nvar=12\n",
      "ntotr=71424,nx=512,nz=192,nspec=31,nvar=12\n",
      "ntotr=71424,nx=512,nz=192,nspec=31,nvar=12\n",
      "ntotr=71424,nx=512,nz=192,nspec=31,nvar=12\n",
      "ntotr=71424,nx=512,nz=192,nspec=31,nvar=12\n",
      "ntotr=71424,nx=512,nz=192,nspec=31,nvar=12\n",
      "ntotr=71424,nx=512,nz=192,nspec=31,nvar=12\n",
      "ntotr=71424,nx=512,nz=192,nspec=31,nvar=12\n",
      "ntotr=71424,nx=512,nz=192,nspec=31,nvar=12\n",
      "ntotr=71424,nx=512,nz=192,nspec=31,nvar=12\n",
      "ntotr=71424,nx=512,nz=192,nspec=31,nvar=12\n",
      "ntotr=71424,nx=512,nz=192,nspec=31,nvar=12\n",
      "ntotr=71424,nx=512,nz=192,nspec=31,nvar=12\n",
      "ntotr=71424,nx=512,nz=192,nspec=31,nvar=12\n",
      "ntotr=71424,nx=512,nz=192,nspec=31,nvar=12\n",
      "ntotr=71424,nx=512,nz=192,nspec=31,nvar=12\n",
      "ntotr=71424,nx=512,nz=192,nspec=31,nvar=12\n",
      "ntotr=71424,nx=512,nz=192,nspec=31,nvar=12\n",
      "ntotr=71424,nx=512,nz=192,nspec=31,nvar=12\n",
      "ntotr=71424,nx=512,nz=192,nspec=31,nvar=12\n",
      "ntotr=71424,nx=512,nz=192,nspec=31,nvar=12\n",
      "ntotr=71424,nx=512,nz=192,nspec=31,nvar=12\n",
      "ntotr=71424,nx=512,nz=192,nspec=31,nvar=12\n",
      "ntotr=71424,nx=512,nz=192,nspec=31,nvar=12\n",
      "ntotr=71424,nx=512,nz=192,nspec=31,nvar=12\n",
      "ntotr=71424,nx=512,nz=192,nspec=31,nvar=12\n",
      "ntotr=71424,nx=512,nz=192,nspec=31,nvar=12\n",
      "ntotr=71424,nx=512,nz=192,nspec=31,nvar=12\n",
      "ntotr=71424,nx=512,nz=192,nspec=31,nvar=12\n",
      "ntotr=71424,nx=512,nz=192,nspec=31,nvar=12\n",
      "ntotr=71424,nx=512,nz=192,nspec=31,nvar=12\n",
      "ntotr=71424,nx=512,nz=192,nspec=31,nvar=12\n",
      "ntotr=71424,nx=512,nz=192,nspec=31,nvar=12\n",
      "ntotr=71424,nx=512,nz=192,nspec=31,nvar=12\n",
      "ntotr=71424,nx=512,nz=192,nspec=31,nvar=12\n",
      "ntotr=71424,nx=512,nz=192,nspec=31,nvar=12\n",
      "ntotr=71424,nx=512,nz=192,nspec=31,nvar=12\n",
      "ntotr=71424,nx=512,nz=192,nspec=31,nvar=12\n",
      "ntotr=71424,nx=512,nz=192,nspec=31,nvar=12\n",
      "ntotr=71424,nx=512,nz=192,nspec=31,nvar=12\n",
      "ntotr=71424,nx=512,nz=192,nspec=31,nvar=12\n",
      "ntotr=71424,nx=512,nz=192,nspec=31,nvar=12\n",
      "ntotr=71424,nx=512,nz=192,nspec=31,nvar=12\n",
      "ntotr=71424,nx=512,nz=192,nspec=31,nvar=12\n",
      "ntotr=71424,nx=512,nz=192,nspec=31,nvar=12\n",
      "ntotr=71424,nx=512,nz=192,nspec=31,nvar=12\n",
      "ntotr=71424,nx=512,nz=192,nspec=31,nvar=12\n",
      "ntotr=71424,nx=512,nz=192,nspec=31,nvar=12\n",
      "ntotr=71424,nx=512,nz=192,nspec=31,nvar=12\n",
      "ntotr=71424,nx=512,nz=192,nspec=31,nvar=12\n",
      "ntotr=71424,nx=512,nz=192,nspec=31,nvar=12\n",
      "ntotr=71424,nx=512,nz=192,nspec=31,nvar=12\n",
      "ntotr=71424,nx=512,nz=192,nspec=31,nvar=12\n",
      "ntotr=71424,nx=512,nz=192,nspec=31,nvar=12\n",
      "ntotr=71424,nx=512,nz=192,nspec=31,nvar=12\n"
     ]
    }
   ],
   "source": [
    "#for every job in l_folders:\n",
    "nplane=-1 #mid plane\n",
    "#nplane=-2\n",
    "for ijob in range(njobs):\n",
    "    print ijob\n",
    "    #for every stafiles in l_sta_files list:\n",
    "    for fspe,ispe in zip(l_spe_files[ijob],range(len(l_spe_files[ijob]))):\n",
    "        #temp = workspe(fspe) #save the stats on the right place\n",
    "        temp = workspe(fspe,nplane) #save the stats on the right place\n",
    "        spes[ijob].append(temp)"
   ]
  },
  {
   "cell_type": "code",
   "execution_count": 31,
   "metadata": {
    "collapsed": true
   },
   "outputs": [],
   "source": [
    "#Special variables is'y'\n",
    "#l_var_unique = ['alp','bet','Re','nacum','nx','ny','nz','np']\n",
    "l_var_unique = ['yjsp','kx','kz','jsp']\n",
    "#'time':time,,'SPEC':SPECplane"
   ]
  },
  {
   "cell_type": "code",
   "execution_count": 32,
   "metadata": {
    "collapsed": false
   },
   "outputs": [
    {
     "name": "stdout",
     "output_type": "stream",
     "text": [
      "plane number 426\n",
      "y=0.1925494601\n",
      "['SPEC']\n",
      "['time']\n"
     ]
    }
   ],
   "source": [
    "l_var_profiles=[]\n",
    "l_var_point=[]\n",
    "y = spes[0][0]['y']\n",
    "yjsp=y[spes[0][0]['jsp'][nplane]]\n",
    "jsp = spes[0][0]['jsp'][nplane]\n",
    "print \"plane number %s\" %(jsp)\n",
    "print \"y=%s\"%(yjsp)\n",
    "\n",
    "#nspec = len(yjsp)\n",
    "my = len(y)\n",
    "time = spes[0][0]\n",
    "for key in spes[0][0].keys():\n",
    "    if key=='SPEC':\n",
    "        l_var_profiles.append(key)\n",
    "    elif key=='time':\n",
    "        l_var_point.append(key)\n",
    "        #print key,shape(stats[0][0][key]),size(stats[0][0][key])\n",
    "print l_var_profiles\n",
    "print l_var_point\n",
    "if nplane == -1:\n",
    "    fnplane = 'mid'\n",
    "else:\n",
    "    nplane=jsp\n",
    "    fnplane = \"%03d\"%nplane"
   ]
  },
  {
   "cell_type": "code",
   "execution_count": null,
   "metadata": {
    "collapsed": false
   },
   "outputs": [],
   "source": []
  },
  {
   "cell_type": "code",
   "execution_count": 33,
   "metadata": {
    "collapsed": true
   },
   "outputs": [],
   "source": [
    "CHECK = False #Flag for activating plots"
   ]
  },
  {
   "cell_type": "code",
   "execution_count": 34,
   "metadata": {
    "collapsed": false,
    "scrolled": true
   },
   "outputs": [
    {
     "name": "stdout",
     "output_type": "stream",
     "text": [
      "mid\n",
      "192 12 512\n",
      "my=851\n",
      "Writing yjsp = 184.0, for ijob = 0\n",
      "Writing kx = [ 0.          0.0136295   0.027259    0.0408885   0.054518    0.0681475\n",
      "  0.081777    0.0954065   0.109036    0.1226655   0.136295    0.1499245\n",
      "  0.163554    0.1771835   0.190813    0.2044425   0.218072    0.2317015\n",
      "  0.245331    0.2589605   0.27259     0.2862195   0.299849    0.3134785\n",
      "  0.327108    0.3407375   0.354367    0.3679965   0.381626    0.39525549\n",
      "  0.40888499  0.42251449  0.43614399  0.44977349  0.46340299  0.47703249\n",
      "  0.49066199  0.50429149  0.51792099  0.53155049  0.54517999  0.55880949\n",
      "  0.57243899  0.58606849  0.59969799  0.61332749  0.62695699  0.64058649\n",
      "  0.65421599  0.66784549  0.68147499  0.69510449  0.70873399  0.72236349\n",
      "  0.73599299  0.74962249  0.76325199  0.77688149  0.79051099  0.80414049\n",
      "  0.81776999  0.83139949  0.84502899  0.85865849  0.87228799  0.88591749\n",
      "  0.89954699  0.91317649  0.92680599  0.94043549  0.95406499  0.96769449\n",
      "  0.98132399  0.99495349  1.00858299  1.02221249  1.03584199  1.04947149\n",
      "  1.06310099  1.07673049  1.09035999  1.10398949  1.11761899  1.13124849\n",
      "  1.14487799  1.15850748  1.17213698  1.18576648  1.19939598  1.21302548\n",
      "  1.22665498  1.24028448  1.25391398  1.26754348  1.28117298  1.29480248\n",
      "  1.30843198  1.32206148  1.33569098  1.34932048  1.36294998  1.37657948\n",
      "  1.39020898  1.40383848  1.41746798  1.43109748  1.44472698  1.45835648\n",
      "  1.47198598  1.48561548  1.49924498  1.51287448  1.52650398  1.54013348\n",
      "  1.55376298  1.56739248  1.58102198  1.59465148  1.60828098  1.62191048\n",
      "  1.63553998  1.64916948  1.66279898  1.67642848  1.69005798  1.70368748\n",
      "  1.71731698  1.73094648  1.74457598  1.75820548  1.77183498  1.78546448\n",
      "  1.79909398  1.81272348  1.82635298  1.83998248  1.85361198  1.86724148\n",
      "  1.88087098  1.89450048  1.90812998  1.92175948  1.93538897  1.94901847\n",
      "  1.96264797  1.97627747  1.98990697  2.00353647  2.01716597  2.03079547\n",
      "  2.04442497  2.05805447  2.07168397  2.08531347  2.09894297  2.11257247\n",
      "  2.12620197  2.13983147  2.15346097  2.16709047  2.18071997  2.19434947\n",
      "  2.20797897  2.22160847  2.23523797  2.24886747  2.26249697  2.27612647\n",
      "  2.28975597  2.30338547  2.31701497  2.33064447  2.34427397  2.35790347\n",
      "  2.37153297  2.38516247  2.39879197  2.41242147  2.42605097  2.43968047\n",
      "  2.45330997  2.46693947  2.48056897  2.49419847  2.50782797  2.52145747\n",
      "  2.53508697  2.54871647  2.56234597  2.57597547  2.58960497  2.60323447\n",
      "  2.61686397  2.63049347  2.64412297  2.65775247  2.67138197  2.68501147\n",
      "  2.69864096  2.71227046  2.72589996  2.73952946  2.75315896  2.76678846\n",
      "  2.78041796  2.79404746  2.80767696  2.82130646  2.83493596  2.84856546\n",
      "  2.86219496  2.87582446  2.88945396  2.90308346  2.91671296  2.93034246\n",
      "  2.94397196  2.95760146  2.97123096  2.98486046  2.99848996  3.01211946\n",
      "  3.02574896  3.03937846  3.05300796  3.06663746  3.08026696  3.09389646\n",
      "  3.10752596  3.12115546  3.13478496  3.14841446  3.16204396  3.17567346\n",
      "  3.18930296  3.20293246  3.21656196  3.23019146  3.24382096  3.25745046\n",
      "  3.27107996  3.28470946  3.29833896  3.31196846  3.32559796  3.33922746\n",
      "  3.35285696  3.36648646  3.38011596  3.39374546  3.40737496  3.42100446\n",
      "  3.43463396  3.44826346  3.46189296  3.47552245  3.48915195  3.50278145\n",
      "  3.51641095  3.53004045  3.54366995  3.55729945  3.57092895  3.58455845\n",
      "  3.59818795  3.61181745  3.62544695  3.63907645  3.65270595  3.66633545\n",
      "  3.67996495  3.69359445  3.70722395  3.72085345  3.73448295  3.74811245\n",
      "  3.76174195  3.77537145  3.78900095  3.80263045  3.81625995  3.82988945\n",
      "  3.84351895  3.85714845  3.87077795  3.88440745  3.89803695  3.91166645\n",
      "  3.92529595  3.93892545  3.95255495  3.96618445  3.97981395  3.99344345\n",
      "  4.00707295  4.02070245  4.03433195  4.04796145  4.06159095  4.07522045\n",
      "  4.08884995  4.10247945  4.11610895  4.12973845  4.14336795  4.15699745\n",
      "  4.17062695  4.18425645  4.19788595  4.21151545  4.22514495  4.23877444\n",
      "  4.25240394  4.26603344  4.27966294  4.29329244  4.30692194  4.32055144\n",
      "  4.33418094  4.34781044  4.36143994  4.37506944  4.38869894  4.40232844\n",
      "  4.41595794  4.42958744  4.44321694  4.45684644  4.47047594  4.48410544\n",
      "  4.49773494  4.51136444  4.52499394  4.53862344  4.55225294  4.56588244\n",
      "  4.57951194  4.59314144  4.60677094  4.62040044  4.63402994  4.64765944\n",
      "  4.66128894  4.67491844  4.68854794  4.70217744  4.71580694  4.72943644\n",
      "  4.74306594  4.75669544  4.77032494  4.78395444  4.79758394  4.81121344\n",
      "  4.82484294  4.83847244  4.85210194  4.86573144  4.87936094  4.89299044\n",
      "  4.90661994  4.92024944  4.93387894  4.94750844  4.96113794  4.97476744\n",
      "  4.98839694  5.00202643  5.01565593  5.02928543  5.04291493  5.05654443\n",
      "  5.07017393  5.08380343  5.09743293  5.11106243  5.12469193  5.13832143\n",
      "  5.15195093  5.16558043  5.17920993  5.19283943  5.20646893  5.22009843\n",
      "  5.23372793  5.24735743  5.26098693  5.27461643  5.28824593  5.30187543\n",
      "  5.31550493  5.32913443  5.34276393  5.35639343  5.37002293  5.38365243\n",
      "  5.39728193  5.41091143  5.42454093  5.43817043  5.45179993  5.46542943\n",
      "  5.47905893  5.49268843  5.50631793  5.51994743  5.53357693  5.54720643\n",
      "  5.56083593  5.57446543  5.58809493  5.60172443  5.61535393  5.62898343\n",
      "  5.64261293  5.65624243  5.66987193  5.68350143  5.69713093  5.71076043\n",
      "  5.72438993  5.73801943  5.75164893  5.76527843  5.77890792  5.79253742\n",
      "  5.80616692  5.81979642  5.83342592  5.84705542  5.86068492  5.87431442\n",
      "  5.88794392  5.90157342  5.91520292  5.92883242  5.94246192  5.95609142\n",
      "  5.96972092  5.98335042  5.99697992  6.01060942  6.02423892  6.03786842\n",
      "  6.05149792  6.06512742  6.07875692  6.09238642  6.10601592  6.11964542\n",
      "  6.13327492  6.14690442  6.16053392  6.17416342  6.18779292  6.20142242\n",
      "  6.21505192  6.22868142  6.24231092  6.25594042  6.26956992  6.28319942\n",
      "  6.29682892  6.31045842  6.32408792  6.33771742  6.35134692  6.36497642\n",
      "  6.37860592  6.39223542  6.40586492  6.41949442  6.43312392  6.44675342\n",
      "  6.46038292  6.47401242  6.48764192  6.50127142  6.51490092  6.52853042\n",
      "  6.54215991  6.55578941  6.56941891  6.58304841  6.59667791  6.61030741\n",
      "  6.62393691  6.63756641  6.65119591  6.66482541  6.67845491  6.69208441\n",
      "  6.70571391  6.71934341  6.73297291  6.74660241  6.76023191  6.77386141\n",
      "  6.78749091  6.80112041  6.81474991  6.82837941  6.84200891  6.85563841\n",
      "  6.86926791  6.88289741  6.89652691  6.91015641  6.92378591  6.93741541\n",
      "  6.95104491  6.96467441], for ijob = 0\n",
      "Writing kz = [ 0.          0.036319    0.072638    0.108957    0.145276    0.18159499\n",
      "  0.21791399  0.25423299  0.29055199  0.32687099  0.36318999  0.39950899\n",
      "  0.43582799  0.47214698  0.50846598  0.54478498  0.58110398  0.61742298\n",
      "  0.65374198  0.69006098  0.72637998  0.76269897  0.79901797  0.83533697\n",
      "  0.87165597  0.90797497  0.94429397  0.98061297  1.01693197  1.05325096\n",
      "  1.08956996  1.12588896  1.16220796  1.19852696  1.23484596  1.27116496\n",
      "  1.30748396  1.34380296  1.38012195  1.41644095  1.45275995  1.48907895\n",
      "  1.52539795  1.56171695  1.59803595  1.63435495  1.67067394  1.70699294\n",
      "  1.74331194  1.77963094  1.81594994  1.85226894  1.88858794  1.92490694\n",
      "  1.96122593  1.99754493  2.03386393  2.07018293  2.10650193  2.14282093\n",
      "  2.17913993  2.21545893  2.25177792  2.28809692  2.32441592  2.36073492\n",
      "  2.39705392  2.43337292  2.46969192  2.50601092  2.54232991  2.57864891\n",
      "  2.61496791  2.65128691  2.68760591  2.72392491  2.76024391  2.79656291\n",
      "  2.83288191  2.8692009   2.9055199   2.9418389   2.9781579   3.0144769\n",
      "  3.0507959   3.0871149   3.1234339   3.15975289  3.19607189  3.23239089\n",
      "  3.26870989  3.30502889  3.34134789  3.37766689  3.41398589  3.45030488\n",
      "  3.48662388  3.52294288  3.55926188  3.59558088  3.63189988  3.66821888\n",
      "  3.70453788  3.74085687  3.77717587  3.81349487  3.84981387  3.88613287\n",
      "  3.92245187  3.95877087  3.99508987  4.03140887  4.06772786  4.10404686\n",
      "  4.14036586  4.17668486  4.21300386  4.24932286  4.28564186  4.32196086\n",
      "  4.35827985  4.39459885  4.43091785  4.46723685  4.50355585  4.53987485\n",
      "  4.57619385  4.61251285  4.64883184  4.68515084  4.72146984  4.75778884\n",
      "  4.79410784  4.83042684  4.86674584  4.90306484  4.93938383  4.97570283\n",
      "  5.01202183  5.04834083  5.08465983  5.12097883  5.15729783  5.19361683\n",
      "  5.22993582  5.26625482  5.30257382  5.33889282  5.37521182  5.41153082\n",
      "  5.44784982  5.48416882  5.52048782  5.55680681  5.59312581  5.62944481\n",
      "  5.66576381  5.70208281  5.73840181  5.77472081  5.81103981  5.8473588\n",
      "  5.8836778   5.9199968   5.9563158   5.9926348   6.0289538   6.0652728\n",
      "  6.1015918   6.13791079  6.17422979  6.21054879  6.24686779  6.28318679\n",
      "  6.31950579  6.35582479  6.39214379  6.42846278  6.46478178  6.50110078\n",
      "  6.53741978  6.57373878  6.61005778  6.64637678  6.68269578  6.71901478\n",
      "  6.75533377  6.79165277  6.82797177  6.86429077  6.90060977  6.93692877], for ijob = 0\n",
      "Writing jsp = [125 145 165 185 205 225 245 265 285 305 325 345 365 385 405 445 465 485\n",
      " 505 525 545 565 585 605 625 645 665 685 705 725 426], for ijob = 0\n",
      "Writing time\n"
     ]
    }
   ],
   "source": [
    "#THIS COULD BE ONE BIG FILE WITH ALL SPECTRA??\n",
    "# Name plane\n",
    "print fnplane\n",
    "for ijob in range(njobs):\n",
    "    [nz,nvar,nx] = np.shape(spes[ijob][0]['SPEC'])\n",
    "    if ijob==0:\n",
    "        print nz,nvar,nx\n",
    "    nspe = len(l_spe_files[ijob])\n",
    "    v_temp=np.zeros(nspe)\n",
    "    matriz = np.zeros([nz,nvar,nx,nspe])\n",
    "    path = p_folders[ijob]+'h5.'+fnplane+'.spes'\n",
    "    with h5py.File(path,\"w\",libver='latest') as f:\n",
    "        f['y']=y\n",
    "        print \"my=%s\" %(len(y))\n",
    "        for variable in l_var_unique:\n",
    "            f[variable]=spes[ijob][0][variable]\n",
    "            print \"Writing %s = %s, for ijob = %s\" %(variable,spes[ijob][0][variable],ijob)\n",
    "        for variable in l_var_point:\n",
    "            print \"Writing %s\" % variable\n",
    "            for ispe in range(nspe):\n",
    "                v_temp[ispe] = spes[ijob][ispe][variable]\n",
    "            #nsta = len(l_sta_files[ijob])\n",
    "            f[variable]=v_temp\n",
    "        for variable in l_var_profiles:\n",
    "            for ispe in range(nspe):\n",
    "                matriz[:,:,:,ispe]=spes[ijob][ispe][variable]\n",
    "            f[variable]=matriz"
   ]
  },
  {
   "cell_type": "markdown",
   "metadata": {
    "collapsed": true
   },
   "source": [
    "# Create all planes SPECTRA "
   ]
  },
  {
   "cell_type": "code",
   "execution_count": 35,
   "metadata": {
    "collapsed": true
   },
   "outputs": [],
   "source": [
    "#Need to read how many planes we have!"
   ]
  },
  {
   "cell_type": "code",
   "execution_count": null,
   "metadata": {
    "collapsed": false
   },
   "outputs": [
    {
     "name": "stdout",
     "output_type": "stream",
     "text": [
      "ntotr=71424,nx=512,nz=192,nspec=31,nvar=12\n",
      "['SPEC']\n",
      "['time']\n",
      "[31]\n",
      "[array([125, 145, 165, 185, 205, 225, 245, 265, 285, 305, 325, 345, 365,\n",
      "       385, 405, 445, 465, 485, 505, 525, 545, 565, 585, 605, 625, 645,\n",
      "       665, 685, 705, 725, 426], dtype=uint32)]\n"
     ]
    }
   ],
   "source": [
    "l_var_unique = ['yjsp','kx','kz','jsp']\n",
    "vplanes=[]\n",
    "nmaxplanes=[]\n",
    "#For each job\n",
    "for ijob in range(njobs):\n",
    "    l_var_profiles=[]\n",
    "    l_var_point=[]\n",
    "    spes = []\n",
    "    for j in range(len(l_spe_files[ijob])):\n",
    "        spes.append([])\n",
    "    firstfile=l_spe_files[ijob][0]\n",
    "    kk = workspe(firstfile,-1)\n",
    "    y = kk['y']\n",
    "    my = len(y)\n",
    "    time = kk['time']\n",
    "    vplanes.append(kk['jsp'])\n",
    "    nmaxplanes.append(len(vplanes[ijob]))\n",
    "    for key in kk.keys():\n",
    "        if key=='SPEC':\n",
    "            l_var_profiles.append(key)\n",
    "        elif key=='time':\n",
    "            l_var_point.append(key)\n",
    "        #print key,shape(stats[0][0][key]),size(stats[0][0][key])\n",
    "print l_var_profiles\n",
    "print l_var_point\n",
    "print nmaxplanes\n",
    "print vplanes\n",
    "#nspec = len(yjsp)\n",
    "\n",
    "\n",
    "#if nplane == -1:\n",
    "#    fnplane = 'mid'\n",
    "#else:\n",
    "#    nplane=jsp\n",
    "#    fnplane = \"%03d\"%nplane"
   ]
  },
  {
   "cell_type": "code",
   "execution_count": null,
   "metadata": {
    "collapsed": false,
    "scrolled": true
   },
   "outputs": [
    {
     "name": "stdout",
     "output_type": "stream",
     "text": [
      "/share/drive/toni/VDML/s40/04/\n",
      "Reading for plane:125\n",
      "ntotr=71424,nx=512,nz=192,nspec=31,nvar=12\n",
      "ntotr=71424,nx=512,nz=192,nspec=31,nvar=12\n",
      "ntotr=71424,nx=512,nz=192,nspec=31,nvar=12\n",
      "ntotr=71424,nx=512,nz=192,nspec=31,nvar=12\n",
      "ntotr=71424,nx=512,nz=192,nspec=31,nvar=12\n",
      "ntotr=71424,nx=512,nz=192,nspec=31,nvar=12\n",
      "ntotr=71424,nx=512,nz=192,nspec=31,nvar=12\n",
      "ntotr=71424,nx=512,nz=192,nspec=31,nvar=12\n",
      "ntotr=71424,nx=512,nz=192,nspec=31,nvar=12\n",
      "ntotr=71424,nx=512,nz=192,nspec=31,nvar=12\n",
      "ntotr=71424,nx=512,nz=192,nspec=31,nvar=12\n",
      "ntotr=71424,nx=512,nz=192,nspec=31,nvar=12\n",
      "ntotr=71424,nx=512,nz=192,nspec=31,nvar=12\n",
      "ntotr=71424,nx=512,nz=192,nspec=31,nvar=12\n",
      "ntotr=71424,nx=512,nz=192,nspec=31,nvar=12\n",
      "ntotr=71424,nx=512,nz=192,nspec=31,nvar=12\n",
      "ntotr=71424,nx=512,nz=192,nspec=31,nvar=12\n",
      "ntotr=71424,nx=512,nz=192,nspec=31,nvar=12\n",
      "ntotr=71424,nx=512,nz=192,nspec=31,nvar=12\n",
      "ntotr=71424,nx=512,nz=192,nspec=31,nvar=12\n",
      "ntotr=71424,nx=512,nz=192,nspec=31,nvar=12\n",
      "ntotr=71424,nx=512,nz=192,nspec=31,nvar=12\n",
      "ntotr=71424,nx=512,nz=192,nspec=31,nvar=12\n",
      "ntotr=71424,nx=512,nz=192,nspec=31,nvar=12\n",
      "ntotr=71424,nx=512,nz=192,nspec=31,nvar=12\n",
      "ntotr=71424,nx=512,nz=192,nspec=31,nvar=12\n",
      "ntotr=71424,nx=512,nz=192,nspec=31,nvar=12\n",
      "ntotr=71424,nx=512,nz=192,nspec=31,nvar=12\n",
      "ntotr=71424,nx=512,nz=192,nspec=31,nvar=12\n",
      "ntotr=71424,nx=512,nz=192,nspec=31,nvar=12\n",
      "ntotr=71424,nx=512,nz=192,nspec=31,nvar=12\n",
      "ntotr=71424,nx=512,nz=192,nspec=31,nvar=12\n",
      "ntotr=71424,nx=512,nz=192,nspec=31,nvar=12\n",
      "ntotr=71424,nx=512,nz=192,nspec=31,nvar=12\n",
      "ntotr=71424,nx=512,nz=192,nspec=31,nvar=12\n",
      "ntotr=71424,nx=512,nz=192,nspec=31,nvar=12\n",
      "ntotr=71424,nx=512,nz=192,nspec=31,nvar=12\n",
      "ntotr=71424,nx=512,nz=192,nspec=31,nvar=12\n",
      "ntotr=71424,nx=512,nz=192,nspec=31,nvar=12\n",
      "ntotr=71424,nx=512,nz=192,nspec=31,nvar=12\n",
      "ntotr=71424,nx=512,nz=192,nspec=31,nvar=12"
     ]
    }
   ],
   "source": [
    "for ijob in range(njobs):\n",
    "    print p_folders[ijob]\n",
    "    for nplane in range(nmaxplanes[ijob]):\n",
    "        print \"Reading for plane:%s\" %(vplanes[ijob][nplane])\n",
    "        spes=[]\n",
    "        for fspe,ispe in zip(l_spe_files[ijob],range(len(l_spe_files[ijob]))):\n",
    "        #temp = workspe(fspe) #save the stats on the right place\n",
    "            temp = workspe(fspe,nplane) #save the stats on the right place\n",
    "            spes.append(temp)\n",
    "        #Read shape of SPECTRA\n",
    "        [nz,nvar,nx] = np.shape(spes[0]['SPEC'])\n",
    "        if ijob==0:\n",
    "            print nz,nvar,nx\n",
    "        nspe = len(l_spe_files[ijob])\n",
    "        v_temp=np.zeros(nspe)\n",
    "        matriz = np.zeros([nz,nvar,nx,nspe])\n",
    "        if nplane == nmaxplanes[ijob]-1: #Last plane\n",
    "            fnplane = 'mid'\n",
    "        else:\n",
    "            nplane=vplanes[ijob][nplane]\n",
    "            fnplane = \"%03d\"%nplane\n",
    "        print \"plane name=%s\"%fnplane\n",
    "        path = p_folders[ijob]+'h5.'+fnplane+'.spes'\n",
    "             \n",
    "        with h5py.File(path,\"w\",libver='latest') as f:\n",
    "            f['y']=y\n",
    "            print \"my=%s\" %(len(y))\n",
    "            for variable in l_var_unique:\n",
    "                f[variable]=spes[0][variable]\n",
    "                print \"Writing %s = %s, for ijob = %s\" %(variable,spes[0][variable],ijob)\n",
    "            for variable in l_var_point:\n",
    "                print \"Writing %s\" % variable\n",
    "                for ispe in range(nspe):\n",
    "                    v_temp[ispe] = spes[ispe][variable]\n",
    "            #nsta = len(l_sta_files[ijob])\n",
    "                f[variable]=v_temp\n",
    "            for variable in l_var_profiles:\n",
    "                for ispe in range(nspe):\n",
    "                    matriz[:,:,:,ispe]=spes[ispe][variable]\n",
    "                f[variable]=matriz\n",
    "    "
   ]
  },
  {
   "cell_type": "code",
   "execution_count": null,
   "metadata": {
    "collapsed": true
   },
   "outputs": [],
   "source": [
    "spes = []\n",
    "f=[]\n",
    "matrix = []"
   ]
  },
  {
   "cell_type": "code",
   "execution_count": null,
   "metadata": {
    "collapsed": true
   },
   "outputs": [],
   "source": [
    "\n"
   ]
  },
  {
   "cell_type": "code",
   "execution_count": null,
   "metadata": {
    "collapsed": true
   },
   "outputs": [],
   "source": []
  },
  {
   "cell_type": "code",
   "execution_count": null,
   "metadata": {
    "collapsed": true
   },
   "outputs": [],
   "source": []
  },
  {
   "cell_type": "code",
   "execution_count": null,
   "metadata": {
    "collapsed": true
   },
   "outputs": [],
   "source": []
  },
  {
   "cell_type": "code",
   "execution_count": null,
   "metadata": {
    "collapsed": true
   },
   "outputs": [],
   "source": []
  },
  {
   "cell_type": "code",
   "execution_count": null,
   "metadata": {
    "collapsed": true
   },
   "outputs": [],
   "source": []
  },
  {
   "cell_type": "code",
   "execution_count": null,
   "metadata": {
    "collapsed": true
   },
   "outputs": [],
   "source": []
  },
  {
   "cell_type": "code",
   "execution_count": null,
   "metadata": {
    "collapsed": true
   },
   "outputs": [],
   "source": []
  }
 ],
 "metadata": {
  "kernelspec": {
   "display_name": "Python 2",
   "language": "python",
   "name": "python2"
  },
  "language_info": {
   "codemirror_mode": {
    "name": "ipython",
    "version": 2
   },
   "file_extension": ".py",
   "mimetype": "text/x-python",
   "name": "python",
   "nbconvert_exporter": "python",
   "pygments_lexer": "ipython2",
   "version": "2.7.6"
  }
 },
 "nbformat": 4,
 "nbformat_minor": 0
}
