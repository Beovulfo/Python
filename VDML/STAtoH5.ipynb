{
 "cells": [
  {
   "cell_type": "code",
   "execution_count": 98,
   "metadata": {},
   "outputs": [],
   "source": [
    "import glob\n",
    "import os\n",
    "import matplotlib.pyplot as plt\n",
    "import pandas as pd\n",
    "import numpy as np\n",
    "from lomapost import * #All functions defined within module lomapost\n",
    "import h5py\n",
    "from readfiles import *\n",
    "%matplotlib inline"
   ]
  },
  {
   "cell_type": "code",
   "execution_count": 99,
   "metadata": {},
   "outputs": [],
   "source": [
    "set_fig_props()"
   ]
  },
  {
   "cell_type": "code",
   "execution_count": 100,
   "metadata": {},
   "outputs": [],
   "source": [
    "from IPython.display import clear_output\n",
    "from IPython.display import Image"
   ]
  },
  {
   "cell_type": "markdown",
   "metadata": {},
   "source": [
    "# Job selection"
   ]
  },
  {
   "cell_type": "markdown",
   "metadata": {},
   "source": [
    "#### Modify p_folders vector for job selection:"
   ]
  },
  {
   "cell_type": "code",
   "execution_count": 101,
   "metadata": {
    "scrolled": true
   },
   "outputs": [
    {
     "name": "stdout",
     "output_type": "stream",
     "text": [
      "['/share/drive/toni/VDML/BM/1D/s40/']\n",
      "job(1): 1st file = /share/drive/toni/VDML/BM/1D/s40/Re1000_01_001.sta, last file = /share/drive/toni/VDML/BM/1D/s40/Re10_01_023.sta\n"
     ]
    }
   ],
   "source": [
    "p_s80Big1 = '/share/drive/toni/Re160s80/caseBig1/'\n",
    "opt_s80Big1 = 1 #lomacte code opt value\n",
    "\n",
    "p_s80a = '/share/drive/toni/Re160s80/case1/'\n",
    "opt_lomacte = 1\n",
    "\n",
    "p_s80ay2 = '/share/drive/toni/Re160s80/case1/y2/'\n",
    "p_s80arv = '/share/drive/toni/Re160s80/case1/rv2/'#Low CFL cumtrpaz\n",
    "p_s80arv = '/share/drive/toni/Re160s80/case1/rv/'#kahan and new family RK\n",
    "\n",
    "\n",
    "p_s80ay2sig07 = '/share/drive/toni/Re160s80/case1/y2/sig07/'\n",
    "p_s80ay2sig07Re380 = '/share/drive/toni/Re160s80/case1/y2/sig07/Re380/'\n",
    "p_s80ay2sig07b = '/share/drive/toni/Re160s80/case1/y2/sig07/bigger/'\n",
    "p_s80by2sig07 = '/share/drive/toni/Re160s80/case2/y2/sig07/'\n",
    "p_s80cy2sig07 = '/share/drive/toni/Re160s80/case3/y2/sig07/'\n",
    "opt_lomacte = 1\n",
    "\n",
    "p_s20ay2 = '/share/drive/toni/Re160s20/case1/y2/'\n",
    "p_s20by2 = '/share/drive/toni/Re160s20/case2/y2/'\n",
    "p_s20cy2 = '/share/drive/toni/Re160s20/case3/y2/'\n",
    "p_s40ay2 = '/share/drive/toni/Re160s40/case1/y2/'\n",
    "opt_lomacte = 1\n",
    "p_s40by2 = '/share/drive/toni/Re160s40/case2/y2/'\n",
    "p_s40cy2 = '/share/drive/toni/Re160s40/case3/y2/'\n",
    "p_s40c = '/share/drive/toni/Re160s40/case3/'\n",
    "p_s40a = '/share/drive/toni/Re160s40/case1/'\n",
    "p_s80by2 = '/share/drive/toni/Re160s80/case2/y2/'\n",
    "opt_lomacte = 1\n",
    "p_s80cy2 = '/share/drive/toni/Re160s80/case3/y2/'\n",
    "opt_lomacte = 1\n",
    "\n",
    "p_s40ay2sig07='/share/drive/toni/Re160s40/case1/y2/sig07/'\n",
    "p_s40by2sig07='/share/drive/toni/Re160s40/case2/y2/sig07/'\n",
    "p_s40cy2sig07='/share/drive/toni/Re160s40/case3/y2/sig07/'\n",
    "opt_loma3 = 3\n",
    "opt_lomahz=1\n",
    "p_PantB = '/share/drive/toni/APS/PantB/'\n",
    "\n",
    "p_s10aSS = '/share/drive/toni/Re160s10/case1/SS/'\n",
    "p_s10bSS = '/share/drive/toni/Re160s10/case2/SS/'\n",
    "p_s10cSS = '/share/drive/toni/Re160s10/case3/SS/'\n",
    "p_s20aSS = '/share/drive/toni/Re160s20/case1/SS/'\n",
    "p_s20bSS = '/share/drive/toni/Re160s20/case2/SS/'\n",
    "p_s20cSS = '/share/drive/toni/Re160s20/case3/SS/'\n",
    "\n",
    "p_folders   = ['/share/drive/toni/Re460s20/boxy2/CFL01/']\n",
    "p_folders   = ['/share/drive/toni/s80/caseSS2/']\n",
    "p_folders   = ['/share/drive/toni/s80/1D/']\n",
    "p_folders   = ['/share/drive/toni/s80/1D/CFL05/']\n",
    "p_folders   = ['/share/drive/toni/s80/1D/oldloma/CFL025/']\n",
    "p_folders   = ['/share/drive/toni/s80/1D/loma3C/CFL1/']\n",
    "p_folders   = ['/share/drive/toni/Re160s80/case1/y2B/']\n",
    "p_folders   = ['/share/drive/toni/VDML/s80/02/','/share/drive/toni/VDML/s80/03/']\n",
    "p_folders   = ['/share/drive/toni/VDML/s10/04/']\n",
    "p_folders   = ['/share/drive/toni/VDML/s10/test/']\n",
    "p_folders = ['/data2/toni/work/results/Re160s10/testny10nmax48/','/data2/toni/work/results/Re160s10/testny24nmax24/',\\\n",
    "            '/data2/toni/work/results/Re160s10/testny1/','/data2/toni/work/results/Re160s10/testny10/']\n",
    "p_folders   = ['/share/drive/toni/VDML/s10/test/','/share/drive/toni/VDML/s10/test2/']\n",
    "p_folders   = ['/share/drive/toni/VDML/s10/01/','/share/drive/toni/VDML/s10/02/','/share/drive/toni/VDML/s10/03/',\\\n",
    "              '/share/drive/toni/VDML/s10/04/newman/','/share/drive/toni/VDML/s10/05/','/share/drive/toni/VDML/s10/06/']\n",
    "p_folders   = ['/share/drive/toni/VDML/s80/01/','/share/drive/toni/VDML/s80/02/','/share/drive/toni/VDML/s80/03/',\\\n",
    "              '/share/drive/toni/VDML/s80/04/']\n",
    "p_folders   = ['/share/drive/toni/VDML/BM/1D/s40/']\n",
    "#p_folders   = ['/share/drive/toni/VDML/s10/test/IC/','/share/drive/toni/VDML/s10/03/IC/']\n",
    "#p_folders   = ['/share/drive/toni/VDML/s10/06/']\n",
    "#p_folders   = ['/share/drive/toni/VDML/s10/test/']\n",
    "#p_folders   = ['/share/drive/toni/VDML/s10/06/']\n",
    "#p_folders   = [p_s20aSS,p_s20bSS,p_s20cSS]\n",
    "#p_folders   = ['/share/drive/toni/VDML/s80/02/']\n",
    "#define option and styles for sta reading\n",
    "l_sta_opt = [3,3,3,3]\n",
    "#p_folders   = [p_results+ 'tests80', p_results+'Re160s20my1101',p_results+'Re160s40my1101'] #Define path of folders\n",
    "#Option 2:  p_folders   = glob.glob(p_results+'Re160*my1101') #use pattern to define them\n",
    "print p_folders                                    #print path folders\n",
    "njobs = len(p_folders)                             #save number of jobs in njobs\n",
    "l_sta_files = list(range(njobs))                   #initialize l_sta_files\n",
    "l_spe_files = list(range(njobs))  \n",
    "#Save all sta files list on l_sta_files for every job\n",
    "for ijob in range(njobs):\n",
    "    l_sta_files[ijob] = sorted(glob.glob(p_folders[ijob]+'/*.sta'))\n",
    "    #l_spe_files[ijob] = sorted(glob.glob(p_folders[ijob]+'/*.spe'))\n",
    "    #Checking:\n",
    "    print \"job(%s): 1st file = %s, last file = %s\" %(ijob+1,l_sta_files[ijob][0],l_sta_files[ijob][-1])   \n",
    "    #print \"job(%s): 1st file = %s, last file = %s\" %(ijob+1,l_spe_files[ijob][0],l_spe_files[ijob][-1])  "
   ]
  },
  {
   "cell_type": "code",
   "execution_count": 102,
   "metadata": {},
   "outputs": [
    {
     "name": "stdout",
     "output_type": "stream",
     "text": [
      "[72]\n"
     ]
    }
   ],
   "source": [
    "#Total number of files for every job\n",
    "nfiles=list(range(njobs))\n",
    "#nfiles2=list(range(njobs))\n",
    "for ijob in range(njobs):\n",
    "    nfiles[ijob] = len(l_sta_files[ijob])\n",
    "    #nfiles2[ijob] = len(l_spe_files[ijob])\n",
    "print nfiles\n"
   ]
  },
  {
   "cell_type": "markdown",
   "metadata": {},
   "source": [
    "# Read all data"
   ]
  },
  {
   "cell_type": "markdown",
   "metadata": {},
   "source": [
    "### STA files"
   ]
  },
  {
   "cell_type": "code",
   "execution_count": 103,
   "metadata": {},
   "outputs": [],
   "source": [
    "stats = []\n",
    "for i in range(njobs):\n",
    "    for j in range(len(l_sta_files[ijob])):\n",
    "        stats.append([])"
   ]
  },
  {
   "cell_type": "markdown",
   "metadata": {},
   "source": [
    "# CREATE HDF5 WITH ALL STATS"
   ]
  },
  {
   "cell_type": "raw",
   "metadata": {},
   "source": [
    "#for every job in l_folders:\n",
    "\n",
    "for ijob in range(njobs):\n",
    "    print ijob\n",
    "    #for every stafiles in l_sta_files list:\n",
    "    for fsta,ista in zip(l_sta_files[ijob],range(len(l_sta_files[ijob]))):\n",
    "        temp = workstaHZ(fsta,2) #save the stats on the right place\n",
    "        stats[ijob].append(temp)"
   ]
  },
  {
   "cell_type": "code",
   "execution_count": 104,
   "metadata": {},
   "outputs": [
    {
     "name": "stdout",
     "output_type": "stream",
     "text": [
      "0\n"
     ]
    }
   ],
   "source": [
    "#for every job in l_folders:\n",
    "for ijob in range(njobs):\n",
    "    print ijob\n",
    "    #print l_sta_opt[ijob]\n",
    "    #for every stafiles in l_sta_files list:\n",
    "    for fsta,ista in zip(l_sta_files[ijob],range(len(l_sta_files[ijob]))):\n",
    "        temp = worksta(fsta,l_sta_opt[ijob]) #save the stats on the right place\n",
    "        #temp = workstaSCAL(fsta) #save the stats on the right place\n",
    "        #temp = worksta(fsta,l_sta_opt[ijob]) #save the stats on the right place\n",
    "        stats[ijob].append(temp)"
   ]
  },
  {
   "cell_type": "code",
   "execution_count": 105,
   "metadata": {},
   "outputs": [
    {
     "name": "stdout",
     "output_type": "stream",
     "text": [
      "['dyeta', 'wrms', 'llambda', 'w1rms', 'w3m', 'w2rms', 'R33', 'w3rms', 'them', 'urms', 'rwm', 'rww', 'thep', 'Relambday', 'uv', 'um', 'epNH', 'XI', 'vm', 'rvm', 'Tm', 'rvv', 'vrms', 'R12', 'R11', 'TT', 'mum', 'nu', 'rum', 'wm', 'epR', 'epS', 'w1m', 'rhom', 'epD', 'ruv', 'ruu', 'Trms', 'k', 'w2m', 'eta', 'R22']\n",
      "['EPS', 'Relambda', 'dm', 'dw', 'rhoEPS', 'dmpoint', 'etamin', 'time']\n"
     ]
    }
   ],
   "source": [
    "#Special variables is'y'\n",
    "l_var_unique = ['alp','bet','Re','nacum']\n",
    "\n",
    "l_var_profiles=[]\n",
    "l_var_point=[]\n",
    "y = stats[0][0]['y']\n",
    "my = len(y)\n",
    "time = stats[0][0]\n",
    "for key in stats[0][0].keys():\n",
    "    if size(stats[0][0][key])==my and key!='y':\n",
    "        l_var_profiles.append(key)\n",
    "    elif key!='y' and key not in l_var_unique:\n",
    "        l_var_point.append(key)\n",
    "        #print key,shape(stats[0][0][key]),size(stats[0][0][key])\n",
    "print l_var_profiles\n",
    "print l_var_point"
   ]
  },
  {
   "cell_type": "code",
   "execution_count": 106,
   "metadata": {
    "collapsed": true
   },
   "outputs": [],
   "source": [
    "CHECK = True #Flag for activating plots"
   ]
  },
  {
   "cell_type": "code",
   "execution_count": 107,
   "metadata": {
    "scrolled": false
   },
   "outputs": [
    {
     "name": "stdout",
     "output_type": "stream",
     "text": [
      "my=257\n",
      "Writing alp = [ 0.125], for ijob = 0\n",
      "Writing bet = [ 0.25], for ijob = 0\n",
      "Writing Re = [ 1000.], for ijob = 0\n",
      "Writing nacum = [1], for ijob = 0\n",
      "Writing EPS\n",
      "Writing Relambda\n",
      "Writing dm\n",
      "Writing dw\n",
      "Writing rhoEPS\n",
      "Writing dmpoint\n",
      "Writing etamin\n",
      "Writing time\n"
     ]
    }
   ],
   "source": [
    "# add a big axes, hide frame\n",
    "# hide tick and tick label of the big axes\n",
    "for ijob in range(njobs):\n",
    "    nsta = len(l_sta_files[ijob])\n",
    "    v_temp=np.zeros(nsta)\n",
    "    y = stats[ijob][0]['y']\n",
    "    my = len(y)\n",
    "    matriz = np.zeros([my,nsta])\n",
    "    path = p_folders[ijob]+'h5.stats'\n",
    "    with h5py.File(path,\"w\") as f:\n",
    "        f['y']=y\n",
    "        print \"my=%s\"%(len(y))\n",
    "        for variable in l_var_unique:\n",
    "            f[variable]=stats[ijob][0][variable]\n",
    "            print \"Writing %s = %s, for ijob = %s\" %(variable,stats[ijob][0][variable],ijob)\n",
    "        for variable in l_var_point:\n",
    "            print \"Writing %s\" % variable\n",
    "            ista = 0\n",
    "            for ista in range(nsta):\n",
    "                v_temp[ista] = stats[ijob][ista][variable]\n",
    "            #nsta = len(l_sta_files[ijob])\n",
    "            f[variable]=v_temp\n",
    "            if variable=='time':\n",
    "                vtime = np.array(v_temp)\n",
    "            if variable=='dm':\n",
    "                vdm  = np.array(v_temp)\n",
    "            if variable=='dw':\n",
    "                vdw  = np.array(v_temp)\n",
    "            if variable=='EPS':\n",
    "                vEPS  = np.array(v_temp)\n",
    "            if variable=='Relambda':\n",
    "                vLambda  = np.array(v_temp)\n",
    "            if variable=='dmpoint':\n",
    "                vdmpoint  = np.array(v_temp)\n",
    "            if variable=='dmpoint2':\n",
    "                vdmpoint2  = np.array(v_temp)\n",
    "        for variable in l_var_profiles:\n",
    "            for ista in range(nsta):\n",
    "                matriz[:,ista]=stats[ijob][ista][variable]\n",
    "            f[variable]=matriz\n",
    "        "
   ]
  },
  {
   "cell_type": "code",
   "execution_count": 108,
   "metadata": {},
   "outputs": [
    {
     "name": "stdout",
     "output_type": "stream",
     "text": [
      "-1494.68304908\n",
      "ifile=/share/drive/toni/VDML/BM/1D/s40/Re1000_01_049.sta, time =-1494.68304908\n"
     ]
    }
   ],
   "source": [
    "print np.min(np.diff(vtime))\n",
    "for i in range(len(vtime)-1):\n",
    "    if (vtime[i+1]-vtime[i]<0.05):\n",
    "        print \"ifile=%s, time =%s\"%(l_sta_files[0][i],vtime[i+1]-vtime[i])"
   ]
  },
  {
   "cell_type": "code",
   "execution_count": 114,
   "metadata": {
    "scrolled": true
   },
   "outputs": [
    {
     "data": {
      "image/png": "[encoded data removed]",
      "text/plain": [
       "<matplotlib.figure.Figure at 0x5b11690>"
      ]
     },
     "metadata": {},
     "output_type": "display_data"
    },
    {
     "data": {
      "image/png": "[encoded data removed]",
      "text/plain": [
       "<matplotlib.figure.Figure at 0x5b11850>"
      ]
     },
     "metadata": {},
     "output_type": "display_data"
    }
   ],
   "source": [
    "if CHECK==True:\n",
    "    fig1 = plt.figure()\n",
    "    fig2 = plt.figure()        \n",
    "    ax2 = fig2.add_subplot(111)\n",
    "    ax2.plot(vtime,vdm,'-',label=p_folders[ijob][-10:])\n",
    "    #ax2.plot(vtime,vdw,'s')\n",
    "    ax2.set_ylabel(r'$\\delta_m$, $\\delta_w$')\n",
    "    plt.grid('on')\n",
    "    plt.legend(loc=4,prop={'size':15})\n",
    "        #Plots\n",
    "    ax1 = fig1.add_subplot(111)\n",
    "    ax1.plot(vtime,vEPS,'*-',label=p_folders[ijob][-10:])\n",
    "    #ax1.plot(vtime,vdmpoint2,'s',label=p_folders[ijob][-10:])\n",
    "        #ax1.plot(vtime,vLambda,label=p_folders[ijob][-10:])\n",
    "    ax1.set_ylabel(\"EPS\")\n",
    "    #ax1.set_ylim(bottom=0)\n",
    "    #ax1.set_ylim([0,0.007])\n",
    "    plt.grid('on')\n",
    "    ax2.set_xlim([0,50])\n",
    "    ax1.set_xlim([0,50])\n",
    "    plt.legend(loc=4,prop={'size':15})\n",
    "    #plt.gca().set_ylim(bottom=0)\n",
    "    "
   ]
  },
  {
   "cell_type": "code",
   "execution_count": 115,
   "metadata": {
    "scrolled": false
   },
   "outputs": [
    {
     "data": {
      "image/png": "[encoded data removed]",
      "text/plain": [
       "<matplotlib.figure.Figure at 0x52edb10>"
      ]
     },
     "metadata": {},
     "output_type": "display_data"
    }
   ],
   "source": [
    "#plt.plot(vtime,vdmpoint,'b.-')\n",
    "#plt.plot(vtime,vdmpoint2,'g')\n",
    "#plt.plot(vtime,der1(vtime,vdm),'r.-')\n",
    "plt.plot(vtime,vdw,'b.-')\n",
    "#plt.ylim(bottom=0.0)\n",
    "#plt.ylim(top=0.024)\n",
    "#plt.xlim(left=0.0)\n",
    "plt.xlim([0,50])\n",
    "plt.grid('on')"
   ]
  },
  {
   "cell_type": "code",
   "execution_count": 116,
   "metadata": {
    "scrolled": false
   },
   "outputs": [
    {
     "data": {
      "image/png": "[encoded data removed]",
      "text/plain": [
       "<matplotlib.figure.Figure at 0x6335310>"
      ]
     },
     "metadata": {},
     "output_type": "display_data"
    }
   ],
   "source": [
    "#plt.plot(vtime,der1(vtime,vdm),'r.-')\n",
    "plt.plot(vtime,vdm,'b.-')\n",
    "#plt.plot(vtime,vdmpoint2,'g')\n",
    "#plt.ylim(bottom=0.0)\n",
    "#plt.xlim(left=0.0)\n",
    "plt.xlim([0,50])\n",
    "plt.grid('on')"
   ]
  },
  {
   "cell_type": "code",
   "execution_count": null,
   "metadata": {
    "collapsed": true
   },
   "outputs": [],
   "source": []
  },
  {
   "cell_type": "code",
   "execution_count": null,
   "metadata": {
    "collapsed": true
   },
   "outputs": [],
   "source": []
  },
  {
   "cell_type": "code",
   "execution_count": null,
   "metadata": {
    "collapsed": true
   },
   "outputs": [],
   "source": []
  },
  {
   "cell_type": "code",
   "execution_count": null,
   "metadata": {
    "collapsed": true
   },
   "outputs": [],
   "source": []
  },
  {
   "cell_type": "code",
   "execution_count": null,
   "metadata": {
    "collapsed": true
   },
   "outputs": [],
   "source": []
  },
  {
   "cell_type": "code",
   "execution_count": null,
   "metadata": {
    "collapsed": true
   },
   "outputs": [],
   "source": []
  }
 ],
 "metadata": {
  "kernelspec": {
   "display_name": "Python 2",
   "language": "python",
   "name": "python2"
  },
  "language_info": {
   "codemirror_mode": {
    "name": "ipython",
    "version": 2
   },
   "file_extension": ".py",
   "mimetype": "text/x-python",
   "name": "python",
   "nbconvert_exporter": "python",
   "pygments_lexer": "ipython2",
   "version": "2.7.6"
  }
 },
 "nbformat": 4,
 "nbformat_minor": 1
}
